{
 "cells": [
  {
   "cell_type": "code",
   "execution_count": 1,
   "metadata": {},
   "outputs": [],
   "source": [
    "import pandas as pd\n",
    "from matplotlib import pyplot as plt\n",
    "%matplotlib inline\n",
    "import seaborn as sns\n",
    "sns.set(style=\"whitegrid\")\n",
    "sns.set_palette(\"muted\")\n",
    "import warnings\n",
    "warnings.simplefilter(action='ignore', category=FutureWarning)"
   ]
  },
  {
   "cell_type": "markdown",
   "metadata": {},
   "source": [
    "# Benign Data"
   ]
  },
  {
   "cell_type": "code",
   "execution_count": 72,
   "metadata": {},
   "outputs": [],
   "source": [
    "# open a capture with the normal data from a scenario\n",
    "data = pd.read_pickle('Datasets/UNSW-NB15/UNSW-NB15-1/normal.pkl')"
   ]
  },
  {
   "cell_type": "markdown",
   "metadata": {},
   "source": [
    "## The structure of the dataset"
   ]
  },
  {
   "cell_type": "code",
   "execution_count": 73,
   "metadata": {},
   "outputs": [
    {
     "data": {
      "text/html": [
       "<div>\n",
       "<style scoped>\n",
       "    .dataframe tbody tr th:only-of-type {\n",
       "        vertical-align: middle;\n",
       "    }\n",
       "\n",
       "    .dataframe tbody tr th {\n",
       "        vertical-align: top;\n",
       "    }\n",
       "\n",
       "    .dataframe thead th {\n",
       "        text-align: right;\n",
       "    }\n",
       "</style>\n",
       "<table border=\"1\" class=\"dataframe\">\n",
       "  <thead>\n",
       "    <tr style=\"text-align: right;\">\n",
       "      <th></th>\n",
       "      <th>src_ip</th>\n",
       "      <th>src_port</th>\n",
       "      <th>dst_ip</th>\n",
       "      <th>dst_port</th>\n",
       "      <th>protocol</th>\n",
       "      <th>state</th>\n",
       "      <th>duration</th>\n",
       "      <th>src_bytes</th>\n",
       "      <th>dst_bytes</th>\n",
       "      <th>missed_src_bytes</th>\n",
       "      <th>missed_dst_bytes</th>\n",
       "      <th>service</th>\n",
       "      <th>src_packets</th>\n",
       "      <th>dst_packets</th>\n",
       "      <th>date</th>\n",
       "      <th>end_date</th>\n",
       "      <th>detailed_label</th>\n",
       "      <th>label</th>\n",
       "      <th>protocol_num</th>\n",
       "    </tr>\n",
       "  </thead>\n",
       "  <tbody>\n",
       "    <tr>\n",
       "      <th>0</th>\n",
       "      <td>10.40.182.1</td>\n",
       "      <td>0</td>\n",
       "      <td>224.0.0.5</td>\n",
       "      <td>0</td>\n",
       "      <td>ospf</td>\n",
       "      <td>INT</td>\n",
       "      <td>50.004337</td>\n",
       "      <td>384</td>\n",
       "      <td>0</td>\n",
       "      <td>0</td>\n",
       "      <td>0</td>\n",
       "      <td>missing</td>\n",
       "      <td>6</td>\n",
       "      <td>0</td>\n",
       "      <td>2015-01-22 11:49:37</td>\n",
       "      <td>2015-01-22 11:50:27</td>\n",
       "      <td>missing</td>\n",
       "      <td>0</td>\n",
       "      <td>3</td>\n",
       "    </tr>\n",
       "    <tr>\n",
       "      <th>1</th>\n",
       "      <td>10.40.182.1</td>\n",
       "      <td>0</td>\n",
       "      <td>224.0.0.5</td>\n",
       "      <td>0</td>\n",
       "      <td>ospf</td>\n",
       "      <td>INT</td>\n",
       "      <td>50.004337</td>\n",
       "      <td>384</td>\n",
       "      <td>0</td>\n",
       "      <td>0</td>\n",
       "      <td>0</td>\n",
       "      <td>missing</td>\n",
       "      <td>6</td>\n",
       "      <td>0</td>\n",
       "      <td>2015-01-22 11:49:37</td>\n",
       "      <td>2015-01-22 11:50:27</td>\n",
       "      <td>missing</td>\n",
       "      <td>0</td>\n",
       "      <td>3</td>\n",
       "    </tr>\n",
       "    <tr>\n",
       "      <th>2</th>\n",
       "      <td>10.40.85.1</td>\n",
       "      <td>0</td>\n",
       "      <td>224.0.0.5</td>\n",
       "      <td>0</td>\n",
       "      <td>ospf</td>\n",
       "      <td>INT</td>\n",
       "      <td>50.004341</td>\n",
       "      <td>384</td>\n",
       "      <td>0</td>\n",
       "      <td>0</td>\n",
       "      <td>0</td>\n",
       "      <td>missing</td>\n",
       "      <td>6</td>\n",
       "      <td>0</td>\n",
       "      <td>2015-01-22 11:49:37</td>\n",
       "      <td>2015-01-22 11:50:27</td>\n",
       "      <td>missing</td>\n",
       "      <td>0</td>\n",
       "      <td>3</td>\n",
       "    </tr>\n",
       "    <tr>\n",
       "      <th>3</th>\n",
       "      <td>10.40.85.1</td>\n",
       "      <td>0</td>\n",
       "      <td>224.0.0.5</td>\n",
       "      <td>0</td>\n",
       "      <td>ospf</td>\n",
       "      <td>INT</td>\n",
       "      <td>50.004341</td>\n",
       "      <td>384</td>\n",
       "      <td>0</td>\n",
       "      <td>0</td>\n",
       "      <td>0</td>\n",
       "      <td>missing</td>\n",
       "      <td>6</td>\n",
       "      <td>0</td>\n",
       "      <td>2015-01-22 11:49:37</td>\n",
       "      <td>2015-01-22 11:50:27</td>\n",
       "      <td>missing</td>\n",
       "      <td>0</td>\n",
       "      <td>3</td>\n",
       "    </tr>\n",
       "    <tr>\n",
       "      <th>4</th>\n",
       "      <td>192.168.241.243</td>\n",
       "      <td>259</td>\n",
       "      <td>192.168.241.243</td>\n",
       "      <td>49320</td>\n",
       "      <td>icmp</td>\n",
       "      <td>URH</td>\n",
       "      <td>0.000000</td>\n",
       "      <td>1780</td>\n",
       "      <td>0</td>\n",
       "      <td>0</td>\n",
       "      <td>0</td>\n",
       "      <td>missing</td>\n",
       "      <td>5</td>\n",
       "      <td>0</td>\n",
       "      <td>2015-01-22 11:49:41</td>\n",
       "      <td>2015-01-22 11:50:39</td>\n",
       "      <td>missing</td>\n",
       "      <td>0</td>\n",
       "      <td>4</td>\n",
       "    </tr>\n",
       "  </tbody>\n",
       "</table>\n",
       "</div>"
      ],
      "text/plain": [
       "            src_ip  src_port           dst_ip  dst_port protocol state  \\\n",
       "0      10.40.182.1         0        224.0.0.5         0     ospf   INT   \n",
       "1      10.40.182.1         0        224.0.0.5         0     ospf   INT   \n",
       "2       10.40.85.1         0        224.0.0.5         0     ospf   INT   \n",
       "3       10.40.85.1         0        224.0.0.5         0     ospf   INT   \n",
       "4  192.168.241.243       259  192.168.241.243     49320     icmp   URH   \n",
       "\n",
       "    duration  src_bytes  dst_bytes  missed_src_bytes  missed_dst_bytes  \\\n",
       "0  50.004337        384          0                 0                 0   \n",
       "1  50.004337        384          0                 0                 0   \n",
       "2  50.004341        384          0                 0                 0   \n",
       "3  50.004341        384          0                 0                 0   \n",
       "4   0.000000       1780          0                 0                 0   \n",
       "\n",
       "   service  src_packets  dst_packets                date            end_date  \\\n",
       "0  missing            6            0 2015-01-22 11:49:37 2015-01-22 11:50:27   \n",
       "1  missing            6            0 2015-01-22 11:49:37 2015-01-22 11:50:27   \n",
       "2  missing            6            0 2015-01-22 11:49:37 2015-01-22 11:50:27   \n",
       "3  missing            6            0 2015-01-22 11:49:37 2015-01-22 11:50:27   \n",
       "4  missing            5            0 2015-01-22 11:49:41 2015-01-22 11:50:39   \n",
       "\n",
       "  detailed_label  label  protocol_num  \n",
       "0        missing      0             3  \n",
       "1        missing      0             3  \n",
       "2        missing      0             3  \n",
       "3        missing      0             3  \n",
       "4        missing      0             4  "
      ]
     },
     "execution_count": 73,
     "metadata": {},
     "output_type": "execute_result"
    }
   ],
   "source": [
    "data.head()"
   ]
  },
  {
   "cell_type": "markdown",
   "metadata": {},
   "source": [
    "## Some basic statistics"
   ]
  },
  {
   "cell_type": "code",
   "execution_count": 74,
   "metadata": {
    "scrolled": true
   },
   "outputs": [
    {
     "data": {
      "text/html": [
       "<div>\n",
       "<style scoped>\n",
       "    .dataframe tbody tr th:only-of-type {\n",
       "        vertical-align: middle;\n",
       "    }\n",
       "\n",
       "    .dataframe tbody tr th {\n",
       "        vertical-align: top;\n",
       "    }\n",
       "\n",
       "    .dataframe thead th {\n",
       "        text-align: right;\n",
       "    }\n",
       "</style>\n",
       "<table border=\"1\" class=\"dataframe\">\n",
       "  <thead>\n",
       "    <tr style=\"text-align: right;\">\n",
       "      <th></th>\n",
       "      <th>src_port</th>\n",
       "      <th>dst_port</th>\n",
       "      <th>duration</th>\n",
       "      <th>src_bytes</th>\n",
       "      <th>dst_bytes</th>\n",
       "      <th>missed_src_bytes</th>\n",
       "      <th>missed_dst_bytes</th>\n",
       "      <th>src_packets</th>\n",
       "      <th>dst_packets</th>\n",
       "      <th>label</th>\n",
       "      <th>protocol_num</th>\n",
       "    </tr>\n",
       "  </thead>\n",
       "  <tbody>\n",
       "    <tr>\n",
       "      <th>count</th>\n",
       "      <td>677785.000000</td>\n",
       "      <td>6.777850e+05</td>\n",
       "      <td>677785.000000</td>\n",
       "      <td>6.777850e+05</td>\n",
       "      <td>6.777850e+05</td>\n",
       "      <td>677785.000000</td>\n",
       "      <td>677785.000000</td>\n",
       "      <td>677785.000000</td>\n",
       "      <td>677785.000000</td>\n",
       "      <td>677785.0</td>\n",
       "      <td>677785.000000</td>\n",
       "    </tr>\n",
       "    <tr>\n",
       "      <th>mean</th>\n",
       "      <td>32414.883596</td>\n",
       "      <td>1.586570e+04</td>\n",
       "      <td>0.853139</td>\n",
       "      <td>4.745585e+03</td>\n",
       "      <td>4.959335e+04</td>\n",
       "      <td>6.338314</td>\n",
       "      <td>21.873334</td>\n",
       "      <td>42.541890</td>\n",
       "      <td>56.727653</td>\n",
       "      <td>0.0</td>\n",
       "      <td>1.447522</td>\n",
       "    </tr>\n",
       "    <tr>\n",
       "      <th>std</th>\n",
       "      <td>19180.555868</td>\n",
       "      <td>9.260546e+05</td>\n",
       "      <td>26.339835</td>\n",
       "      <td>1.317654e+04</td>\n",
       "      <td>1.864853e+05</td>\n",
       "      <td>9.985018</td>\n",
       "      <td>64.738830</td>\n",
       "      <td>74.355924</td>\n",
       "      <td>139.048097</td>\n",
       "      <td>0.0</td>\n",
       "      <td>0.902585</td>\n",
       "    </tr>\n",
       "    <tr>\n",
       "      <th>min</th>\n",
       "      <td>-1.000000</td>\n",
       "      <td>-1.000000e+00</td>\n",
       "      <td>0.000000</td>\n",
       "      <td>0.000000e+00</td>\n",
       "      <td>0.000000e+00</td>\n",
       "      <td>0.000000</td>\n",
       "      <td>0.000000</td>\n",
       "      <td>0.000000</td>\n",
       "      <td>0.000000</td>\n",
       "      <td>0.0</td>\n",
       "      <td>0.000000</td>\n",
       "    </tr>\n",
       "    <tr>\n",
       "      <th>25%</th>\n",
       "      <td>15687.000000</td>\n",
       "      <td>5.300000e+01</td>\n",
       "      <td>0.004225</td>\n",
       "      <td>5.120000e+02</td>\n",
       "      <td>3.040000e+02</td>\n",
       "      <td>0.000000</td>\n",
       "      <td>0.000000</td>\n",
       "      <td>4.000000</td>\n",
       "      <td>4.000000</td>\n",
       "      <td>0.0</td>\n",
       "      <td>0.000000</td>\n",
       "    </tr>\n",
       "    <tr>\n",
       "      <th>50%</th>\n",
       "      <td>32489.000000</td>\n",
       "      <td>4.161000e+03</td>\n",
       "      <td>0.027880</td>\n",
       "      <td>2.158000e+03</td>\n",
       "      <td>3.380000e+03</td>\n",
       "      <td>4.000000</td>\n",
       "      <td>5.000000</td>\n",
       "      <td>18.000000</td>\n",
       "      <td>18.000000</td>\n",
       "      <td>0.0</td>\n",
       "      <td>2.000000</td>\n",
       "    </tr>\n",
       "    <tr>\n",
       "      <th>75%</th>\n",
       "      <td>48931.000000</td>\n",
       "      <td>2.611600e+04</td>\n",
       "      <td>0.327875</td>\n",
       "      <td>3.910000e+03</td>\n",
       "      <td>2.327800e+04</td>\n",
       "      <td>7.000000</td>\n",
       "      <td>16.000000</td>\n",
       "      <td>52.000000</td>\n",
       "      <td>50.000000</td>\n",
       "      <td>0.0</td>\n",
       "      <td>2.000000</td>\n",
       "    </tr>\n",
       "    <tr>\n",
       "      <th>max</th>\n",
       "      <td>65535.000000</td>\n",
       "      <td>5.389893e+08</td>\n",
       "      <td>8786.637695</td>\n",
       "      <td>1.592581e+06</td>\n",
       "      <td>1.641360e+06</td>\n",
       "      <td>560.000000</td>\n",
       "      <td>583.000000</td>\n",
       "      <td>1233.000000</td>\n",
       "      <td>1278.000000</td>\n",
       "      <td>0.0</td>\n",
       "      <td>59.000000</td>\n",
       "    </tr>\n",
       "  </tbody>\n",
       "</table>\n",
       "</div>"
      ],
      "text/plain": [
       "            src_port      dst_port       duration     src_bytes     dst_bytes  \\\n",
       "count  677785.000000  6.777850e+05  677785.000000  6.777850e+05  6.777850e+05   \n",
       "mean    32414.883596  1.586570e+04       0.853139  4.745585e+03  4.959335e+04   \n",
       "std     19180.555868  9.260546e+05      26.339835  1.317654e+04  1.864853e+05   \n",
       "min        -1.000000 -1.000000e+00       0.000000  0.000000e+00  0.000000e+00   \n",
       "25%     15687.000000  5.300000e+01       0.004225  5.120000e+02  3.040000e+02   \n",
       "50%     32489.000000  4.161000e+03       0.027880  2.158000e+03  3.380000e+03   \n",
       "75%     48931.000000  2.611600e+04       0.327875  3.910000e+03  2.327800e+04   \n",
       "max     65535.000000  5.389893e+08    8786.637695  1.592581e+06  1.641360e+06   \n",
       "\n",
       "       missed_src_bytes  missed_dst_bytes    src_packets    dst_packets  \\\n",
       "count     677785.000000     677785.000000  677785.000000  677785.000000   \n",
       "mean           6.338314         21.873334      42.541890      56.727653   \n",
       "std            9.985018         64.738830      74.355924     139.048097   \n",
       "min            0.000000          0.000000       0.000000       0.000000   \n",
       "25%            0.000000          0.000000       4.000000       4.000000   \n",
       "50%            4.000000          5.000000      18.000000      18.000000   \n",
       "75%            7.000000         16.000000      52.000000      50.000000   \n",
       "max          560.000000        583.000000    1233.000000    1278.000000   \n",
       "\n",
       "          label   protocol_num  \n",
       "count  677785.0  677785.000000  \n",
       "mean        0.0       1.447522  \n",
       "std         0.0       0.902585  \n",
       "min         0.0       0.000000  \n",
       "25%         0.0       0.000000  \n",
       "50%         0.0       2.000000  \n",
       "75%         0.0       2.000000  \n",
       "max         0.0      59.000000  "
      ]
     },
     "execution_count": 74,
     "metadata": {},
     "output_type": "execute_result"
    }
   ],
   "source": [
    "data.describe()"
   ]
  },
  {
   "cell_type": "markdown",
   "metadata": {},
   "source": [
    "## Port Visualizations"
   ]
  },
  {
   "cell_type": "markdown",
   "metadata": {},
   "source": [
    "### Source Port Distribution"
   ]
  },
  {
   "cell_type": "code",
   "execution_count": 75,
   "metadata": {},
   "outputs": [
    {
     "data": {
      "text/plain": [
       "Text(0, 0.5, 'Number of flows')"
      ]
     },
     "execution_count": 75,
     "metadata": {},
     "output_type": "execute_result"
    },
    {
     "data": {
      "image/png": "[encoded data removed]",
      "text/plain": [
       "<Figure size 432x288 with 1 Axes>"
      ]
     },
     "metadata": {},
     "output_type": "display_data"
    }
   ],
   "source": [
    "data['src_port'].hist(bins=25)\n",
    "plt.xlabel('Source port numbers')\n",
    "plt.ylabel('Number of flows')"
   ]
  },
  {
   "cell_type": "code",
   "execution_count": 76,
   "metadata": {},
   "outputs": [
    {
     "data": {
      "text/plain": [
       "Text(0, 0.5, 'Density')"
      ]
     },
     "execution_count": 76,
     "metadata": {},
     "output_type": "execute_result"
    },
    {
     "data": {
      "image/png": "[encoded data removed]",
      "text/plain": [
       "<Figure size 720x432 with 1 Axes>"
      ]
     },
     "metadata": {},
     "output_type": "display_data"
    }
   ],
   "source": [
    "plt.figure(figsize=(10, 6))\n",
    "sns.distplot(data[\"src_port\"])\n",
    "plt.xlabel(\"Source port numbers\")\n",
    "plt.ylabel(\"Density\")"
   ]
  },
  {
   "cell_type": "markdown",
   "metadata": {},
   "source": [
    "### Destination Port"
   ]
  },
  {
   "cell_type": "code",
   "execution_count": 77,
   "metadata": {},
   "outputs": [
    {
     "data": {
      "text/plain": [
       "Text(0, 0.5, 'Number of flows')"
      ]
     },
     "execution_count": 77,
     "metadata": {},
     "output_type": "execute_result"
    },
    {
     "data": {
      "image/png": "[encoded data removed]",
      "text/plain": [
       "<Figure size 432x288 with 1 Axes>"
      ]
     },
     "metadata": {},
     "output_type": "display_data"
    }
   ],
   "source": [
    "data['dst_port'].hist(bins=25)\n",
    "plt.xlabel('Destination port numbers')\n",
    "plt.ylabel('Number of flows')"
   ]
  },
  {
   "cell_type": "code",
   "execution_count": 78,
   "metadata": {},
   "outputs": [
    {
     "data": {
      "text/plain": [
       "Text(0, 0.5, 'Density')"
      ]
     },
     "execution_count": 78,
     "metadata": {},
     "output_type": "execute_result"
    },
    {
     "data": {
      "image/png": "[encoded data removed]",
      "text/plain": [
       "<Figure size 720x432 with 1 Axes>"
      ]
     },
     "metadata": {},
     "output_type": "display_data"
    }
   ],
   "source": [
    "plt.figure(figsize=(10, 6))\n",
    "sns.distplot(data[\"dst_port\"])\n",
    "plt.xlabel(\"Destination port numbers\")\n",
    "plt.ylabel(\"Density\")"
   ]
  },
  {
   "cell_type": "markdown",
   "metadata": {},
   "source": [
    "### Source and Destination Port number range"
   ]
  },
  {
   "cell_type": "code",
   "execution_count": 79,
   "metadata": {},
   "outputs": [
    {
     "data": {
      "text/plain": [
       "<matplotlib.axes._subplots.AxesSubplot at 0x138129c10>"
      ]
     },
     "execution_count": 79,
     "metadata": {},
     "output_type": "execute_result"
    },
    {
     "data": {
      "image/png": "[encoded data removed]",
      "text/plain": [
       "<Figure size 720x432 with 1 Axes>"
      ]
     },
     "metadata": {},
     "output_type": "display_data"
    }
   ],
   "source": [
    "plt.figure(figsize=(10, 6))\n",
    "sns.boxplot(x=\"Port type\", y=\"Port Number\", showfliers=False, data=pd.melt(data[[\"src_port\", \"dst_port\"]].rename(columns={\"src_port\": \"Source Port\", \"dst_port\": \"Destination Port\"})).rename(columns={\"variable\": \"Port type\", \"value\": \"Port Number\"}))"
   ]
  },
  {
   "cell_type": "markdown",
   "metadata": {},
   "source": [
    "## Protocol distribution"
   ]
  },
  {
   "cell_type": "code",
   "execution_count": 80,
   "metadata": {},
   "outputs": [
    {
     "data": {
      "text/plain": [
       "Text(0.5, 0, 'Protocol')"
      ]
     },
     "execution_count": 80,
     "metadata": {},
     "output_type": "execute_result"
    },
    {
     "data": {
      "image/png": "[encoded data removed]",
      "text/plain": [
       "<Figure size 720x432 with 1 Axes>"
      ]
     },
     "metadata": {},
     "output_type": "display_data"
    }
   ],
   "source": [
    "plt.figure(figsize=(10, 6))\n",
    "sns.countplot(x=\"protocol\", data=data)\n",
    "plt.xlabel(\"Protocol\")"
   ]
  },
  {
   "cell_type": "markdown",
   "metadata": {},
   "source": [
    "## Bytes Distribution"
   ]
  },
  {
   "cell_type": "code",
   "execution_count": 81,
   "metadata": {},
   "outputs": [
    {
     "data": {
      "text/plain": [
       "Text(0, 0.5, 'Number of bytes')"
      ]
     },
     "execution_count": 81,
     "metadata": {},
     "output_type": "execute_result"
    },
    {
     "data": {
      "image/png": "[encoded data removed]",
      "text/plain": [
       "<Figure size 720x432 with 1 Axes>"
      ]
     },
     "metadata": {},
     "output_type": "display_data"
    }
   ],
   "source": [
    "plt.figure(figsize=(10, 6))\n",
    "sns.boxplot(x=\"variable\", y=\"value\", data=pd.melt(data[['src_bytes', 'dst_bytes']]), showfliers=False)\n",
    "plt.xlabel('Type of bytes')\n",
    "plt.ylabel('Number of bytes')"
   ]
  },
  {
   "cell_type": "markdown",
   "metadata": {},
   "source": [
    "## Duration Distribution"
   ]
  },
  {
   "cell_type": "code",
   "execution_count": 82,
   "metadata": {},
   "outputs": [
    {
     "data": {
      "text/plain": [
       "Text(0, 0.5, 'Number of flows')"
      ]
     },
     "execution_count": 82,
     "metadata": {},
     "output_type": "execute_result"
    },
    {
     "data": {
      "image/png": "[encoded data removed]",
      "text/plain": [
       "<Figure size 432x288 with 1 Axes>"
      ]
     },
     "metadata": {},
     "output_type": "display_data"
    }
   ],
   "source": [
    "data['duration'].hist(bins=25)\n",
    "plt.xlabel('Duration')\n",
    "plt.ylabel('Number of flows')"
   ]
  },
  {
   "cell_type": "code",
   "execution_count": 83,
   "metadata": {},
   "outputs": [
    {
     "data": {
      "text/plain": [
       "Text(0, 0.5, 'Density')"
      ]
     },
     "execution_count": 83,
     "metadata": {},
     "output_type": "execute_result"
    },
    {
     "data": {
      "image/png": "[encoded data removed]",
      "text/plain": [
       "<Figure size 720x432 with 1 Axes>"
      ]
     },
     "metadata": {},
     "output_type": "display_data"
    }
   ],
   "source": [
    "plt.figure(figsize=(10, 6))\n",
    "sns.distplot(data[\"duration\"])\n",
    "plt.ylabel(\"Density\")"
   ]
  },
  {
   "cell_type": "code",
   "execution_count": 84,
   "metadata": {},
   "outputs": [
    {
     "data": {
      "text/plain": [
       "Text(0.5, 0, 'Duration')"
      ]
     },
     "execution_count": 84,
     "metadata": {},
     "output_type": "execute_result"
    },
    {
     "data": {
      "image/png": "[encoded data removed]",
      "text/plain": [
       "<Figure size 720x432 with 1 Axes>"
      ]
     },
     "metadata": {},
     "output_type": "display_data"
    }
   ],
   "source": [
    "plt.figure(figsize=(10, 6))\n",
    "sns.boxplot(x=data[\"duration\"], showfliers=False)\n",
    "plt.xlabel(\"Duration\")"
   ]
  },
  {
   "cell_type": "markdown",
   "metadata": {},
   "source": [
    "## Number of flows/sec"
   ]
  },
  {
   "cell_type": "code",
   "execution_count": 85,
   "metadata": {},
   "outputs": [
    {
     "data": {
      "text/plain": [
       "Text(0.5, 0, 'Date')"
      ]
     },
     "execution_count": 85,
     "metadata": {},
     "output_type": "execute_result"
    },
    {
     "data": {
      "image/png": "[encoded data removed]",
      "text/plain": [
       "<Figure size 720x432 with 1 Axes>"
      ]
     },
     "metadata": {},
     "output_type": "display_data"
    }
   ],
   "source": [
    "plt.figure(figsize=(10, 6))\n",
    "binned_flows = data[['date', 'protocol']].groupby(pd.Grouper(key='date', freq='S')).count().rename(columns={'protocol': 'Number of flows'}).reset_index()\n",
    "sns.lineplot(x='date', y='Number of flows', data=binned_flows)\n",
    "plt.xlabel(\"Date\")"
   ]
  },
  {
   "cell_type": "markdown",
   "metadata": {},
   "source": [
    "## Number of hosts in the dataset"
   ]
  },
  {
   "cell_type": "code",
   "execution_count": 86,
   "metadata": {},
   "outputs": [
    {
     "data": {
      "text/plain": [
       "40"
      ]
     },
     "execution_count": 86,
     "metadata": {},
     "output_type": "execute_result"
    }
   ],
   "source": [
    "data['src_ip'].nunique()"
   ]
  },
  {
   "cell_type": "markdown",
   "metadata": {},
   "source": [
    "## Flows per host"
   ]
  },
  {
   "cell_type": "code",
   "execution_count": 87,
   "metadata": {},
   "outputs": [
    {
     "data": {
      "text/html": [
       "<div>\n",
       "<style scoped>\n",
       "    .dataframe tbody tr th:only-of-type {\n",
       "        vertical-align: middle;\n",
       "    }\n",
       "\n",
       "    .dataframe tbody tr th {\n",
       "        vertical-align: top;\n",
       "    }\n",
       "\n",
       "    .dataframe thead th {\n",
       "        text-align: right;\n",
       "    }\n",
       "</style>\n",
       "<table border=\"1\" class=\"dataframe\">\n",
       "  <thead>\n",
       "    <tr style=\"text-align: right;\">\n",
       "      <th></th>\n",
       "      <th>src_ip</th>\n",
       "      <th>num_flows</th>\n",
       "    </tr>\n",
       "  </thead>\n",
       "  <tbody>\n",
       "    <tr>\n",
       "      <th>0</th>\n",
       "      <td>10.40.170.2</td>\n",
       "      <td>874</td>\n",
       "    </tr>\n",
       "    <tr>\n",
       "      <th>1</th>\n",
       "      <td>10.40.182.1</td>\n",
       "      <td>1670</td>\n",
       "    </tr>\n",
       "    <tr>\n",
       "      <th>2</th>\n",
       "      <td>10.40.182.3</td>\n",
       "      <td>874</td>\n",
       "    </tr>\n",
       "    <tr>\n",
       "      <th>3</th>\n",
       "      <td>10.40.85.1</td>\n",
       "      <td>1680</td>\n",
       "    </tr>\n",
       "    <tr>\n",
       "      <th>4</th>\n",
       "      <td>10.40.85.30</td>\n",
       "      <td>888</td>\n",
       "    </tr>\n",
       "    <tr>\n",
       "      <th>5</th>\n",
       "      <td>127.0.0.1</td>\n",
       "      <td>1</td>\n",
       "    </tr>\n",
       "    <tr>\n",
       "      <th>6</th>\n",
       "      <td>149.171.126.0</td>\n",
       "      <td>192</td>\n",
       "    </tr>\n",
       "    <tr>\n",
       "      <th>7</th>\n",
       "      <td>149.171.126.1</td>\n",
       "      <td>251</td>\n",
       "    </tr>\n",
       "    <tr>\n",
       "      <th>8</th>\n",
       "      <td>149.171.126.10</td>\n",
       "      <td>3</td>\n",
       "    </tr>\n",
       "    <tr>\n",
       "      <th>9</th>\n",
       "      <td>149.171.126.11</td>\n",
       "      <td>16</td>\n",
       "    </tr>\n",
       "    <tr>\n",
       "      <th>10</th>\n",
       "      <td>149.171.126.12</td>\n",
       "      <td>2</td>\n",
       "    </tr>\n",
       "    <tr>\n",
       "      <th>11</th>\n",
       "      <td>149.171.126.13</td>\n",
       "      <td>1</td>\n",
       "    </tr>\n",
       "    <tr>\n",
       "      <th>12</th>\n",
       "      <td>149.171.126.15</td>\n",
       "      <td>8</td>\n",
       "    </tr>\n",
       "    <tr>\n",
       "      <th>13</th>\n",
       "      <td>149.171.126.16</td>\n",
       "      <td>6</td>\n",
       "    </tr>\n",
       "    <tr>\n",
       "      <th>14</th>\n",
       "      <td>149.171.126.17</td>\n",
       "      <td>1</td>\n",
       "    </tr>\n",
       "    <tr>\n",
       "      <th>15</th>\n",
       "      <td>149.171.126.18</td>\n",
       "      <td>6010</td>\n",
       "    </tr>\n",
       "    <tr>\n",
       "      <th>16</th>\n",
       "      <td>149.171.126.19</td>\n",
       "      <td>3</td>\n",
       "    </tr>\n",
       "    <tr>\n",
       "      <th>17</th>\n",
       "      <td>149.171.126.2</td>\n",
       "      <td>232</td>\n",
       "    </tr>\n",
       "    <tr>\n",
       "      <th>18</th>\n",
       "      <td>149.171.126.3</td>\n",
       "      <td>231</td>\n",
       "    </tr>\n",
       "    <tr>\n",
       "      <th>19</th>\n",
       "      <td>149.171.126.4</td>\n",
       "      <td>225</td>\n",
       "    </tr>\n",
       "    <tr>\n",
       "      <th>20</th>\n",
       "      <td>149.171.126.5</td>\n",
       "      <td>249</td>\n",
       "    </tr>\n",
       "    <tr>\n",
       "      <th>21</th>\n",
       "      <td>149.171.126.6</td>\n",
       "      <td>241</td>\n",
       "    </tr>\n",
       "    <tr>\n",
       "      <th>22</th>\n",
       "      <td>149.171.126.7</td>\n",
       "      <td>207</td>\n",
       "    </tr>\n",
       "    <tr>\n",
       "      <th>23</th>\n",
       "      <td>149.171.126.8</td>\n",
       "      <td>217</td>\n",
       "    </tr>\n",
       "    <tr>\n",
       "      <th>24</th>\n",
       "      <td>149.171.126.9</td>\n",
       "      <td>217</td>\n",
       "    </tr>\n",
       "    <tr>\n",
       "      <th>25</th>\n",
       "      <td>175.45.176.0</td>\n",
       "      <td>1489</td>\n",
       "    </tr>\n",
       "    <tr>\n",
       "      <th>26</th>\n",
       "      <td>175.45.176.1</td>\n",
       "      <td>1074</td>\n",
       "    </tr>\n",
       "    <tr>\n",
       "      <th>27</th>\n",
       "      <td>175.45.176.2</td>\n",
       "      <td>622</td>\n",
       "    </tr>\n",
       "    <tr>\n",
       "      <th>28</th>\n",
       "      <td>175.45.176.3</td>\n",
       "      <td>2071</td>\n",
       "    </tr>\n",
       "    <tr>\n",
       "      <th>29</th>\n",
       "      <td>192.168.241.243</td>\n",
       "      <td>108</td>\n",
       "    </tr>\n",
       "    <tr>\n",
       "      <th>30</th>\n",
       "      <td>59.166.0.0</td>\n",
       "      <td>67127</td>\n",
       "    </tr>\n",
       "    <tr>\n",
       "      <th>31</th>\n",
       "      <td>59.166.0.1</td>\n",
       "      <td>66587</td>\n",
       "    </tr>\n",
       "    <tr>\n",
       "      <th>32</th>\n",
       "      <td>59.166.0.2</td>\n",
       "      <td>67209</td>\n",
       "    </tr>\n",
       "    <tr>\n",
       "      <th>33</th>\n",
       "      <td>59.166.0.3</td>\n",
       "      <td>66145</td>\n",
       "    </tr>\n",
       "    <tr>\n",
       "      <th>34</th>\n",
       "      <td>59.166.0.4</td>\n",
       "      <td>66722</td>\n",
       "    </tr>\n",
       "    <tr>\n",
       "      <th>35</th>\n",
       "      <td>59.166.0.5</td>\n",
       "      <td>67091</td>\n",
       "    </tr>\n",
       "    <tr>\n",
       "      <th>36</th>\n",
       "      <td>59.166.0.6</td>\n",
       "      <td>64689</td>\n",
       "    </tr>\n",
       "    <tr>\n",
       "      <th>37</th>\n",
       "      <td>59.166.0.7</td>\n",
       "      <td>63725</td>\n",
       "    </tr>\n",
       "    <tr>\n",
       "      <th>38</th>\n",
       "      <td>59.166.0.8</td>\n",
       "      <td>64640</td>\n",
       "    </tr>\n",
       "    <tr>\n",
       "      <th>39</th>\n",
       "      <td>59.166.0.9</td>\n",
       "      <td>64187</td>\n",
       "    </tr>\n",
       "  </tbody>\n",
       "</table>\n",
       "</div>"
      ],
      "text/plain": [
       "             src_ip  num_flows\n",
       "0       10.40.170.2        874\n",
       "1       10.40.182.1       1670\n",
       "2       10.40.182.3        874\n",
       "3        10.40.85.1       1680\n",
       "4       10.40.85.30        888\n",
       "5         127.0.0.1          1\n",
       "6     149.171.126.0        192\n",
       "7     149.171.126.1        251\n",
       "8    149.171.126.10          3\n",
       "9    149.171.126.11         16\n",
       "10   149.171.126.12          2\n",
       "11   149.171.126.13          1\n",
       "12   149.171.126.15          8\n",
       "13   149.171.126.16          6\n",
       "14   149.171.126.17          1\n",
       "15   149.171.126.18       6010\n",
       "16   149.171.126.19          3\n",
       "17    149.171.126.2        232\n",
       "18    149.171.126.3        231\n",
       "19    149.171.126.4        225\n",
       "20    149.171.126.5        249\n",
       "21    149.171.126.6        241\n",
       "22    149.171.126.7        207\n",
       "23    149.171.126.8        217\n",
       "24    149.171.126.9        217\n",
       "25     175.45.176.0       1489\n",
       "26     175.45.176.1       1074\n",
       "27     175.45.176.2        622\n",
       "28     175.45.176.3       2071\n",
       "29  192.168.241.243        108\n",
       "30       59.166.0.0      67127\n",
       "31       59.166.0.1      66587\n",
       "32       59.166.0.2      67209\n",
       "33       59.166.0.3      66145\n",
       "34       59.166.0.4      66722\n",
       "35       59.166.0.5      67091\n",
       "36       59.166.0.6      64689\n",
       "37       59.166.0.7      63725\n",
       "38       59.166.0.8      64640\n",
       "39       59.166.0.9      64187"
      ]
     },
     "execution_count": 87,
     "metadata": {},
     "output_type": "execute_result"
    }
   ],
   "source": [
    "flows_per_host = data.groupby('src_ip').size().reset_index().rename(columns={0: 'num_flows'})\n",
    "flows_per_host"
   ]
  },
  {
   "cell_type": "code",
   "execution_count": 88,
   "metadata": {},
   "outputs": [
    {
     "data": {
      "text/plain": [
       "Text(0, 0.5, 'Number of hosts')"
      ]
     },
     "execution_count": 88,
     "metadata": {},
     "output_type": "execute_result"
    },
    {
     "data": {
      "image/png": "[encoded data removed]",
      "text/plain": [
       "<Figure size 432x288 with 1 Axes>"
      ]
     },
     "metadata": {},
     "output_type": "display_data"
    }
   ],
   "source": [
    "flows_per_host['num_flows'].hist(bins=50)\n",
    "plt.xlabel('Number of flows')\n",
    "plt.ylabel('Number of hosts')"
   ]
  },
  {
   "cell_type": "markdown",
   "metadata": {},
   "source": [
    "## Number of connections in the dataset"
   ]
  },
  {
   "cell_type": "code",
   "execution_count": 89,
   "metadata": {},
   "outputs": [
    {
     "data": {
      "text/plain": [
       "273"
      ]
     },
     "execution_count": 89,
     "metadata": {},
     "output_type": "execute_result"
    }
   ],
   "source": [
    "flows_per_connection = data.groupby(['src_ip', 'dst_ip']).size().reset_index().rename(columns={0: 'Number of flows'})\n",
    "flows_per_connection.shape[0]"
   ]
  },
  {
   "cell_type": "markdown",
   "metadata": {},
   "source": [
    "## Flows per connection"
   ]
  },
  {
   "cell_type": "code",
   "execution_count": 90,
   "metadata": {},
   "outputs": [
    {
     "data": {
      "text/html": [
       "<div>\n",
       "<style scoped>\n",
       "    .dataframe tbody tr th:only-of-type {\n",
       "        vertical-align: middle;\n",
       "    }\n",
       "\n",
       "    .dataframe tbody tr th {\n",
       "        vertical-align: top;\n",
       "    }\n",
       "\n",
       "    .dataframe thead th {\n",
       "        text-align: right;\n",
       "    }\n",
       "</style>\n",
       "<table border=\"1\" class=\"dataframe\">\n",
       "  <thead>\n",
       "    <tr style=\"text-align: right;\">\n",
       "      <th></th>\n",
       "      <th>src_ip</th>\n",
       "      <th>dst_ip</th>\n",
       "      <th>Number of flows</th>\n",
       "    </tr>\n",
       "  </thead>\n",
       "  <tbody>\n",
       "    <tr>\n",
       "      <th>0</th>\n",
       "      <td>10.40.170.2</td>\n",
       "      <td>10.40.170.2</td>\n",
       "      <td>874</td>\n",
       "    </tr>\n",
       "    <tr>\n",
       "      <th>1</th>\n",
       "      <td>10.40.182.1</td>\n",
       "      <td>10.40.182.3</td>\n",
       "      <td>708</td>\n",
       "    </tr>\n",
       "    <tr>\n",
       "      <th>2</th>\n",
       "      <td>10.40.182.1</td>\n",
       "      <td>10.40.198.10</td>\n",
       "      <td>6</td>\n",
       "    </tr>\n",
       "    <tr>\n",
       "      <th>3</th>\n",
       "      <td>10.40.182.1</td>\n",
       "      <td>224.0.0.5</td>\n",
       "      <td>956</td>\n",
       "    </tr>\n",
       "    <tr>\n",
       "      <th>4</th>\n",
       "      <td>10.40.182.3</td>\n",
       "      <td>10.40.182.3</td>\n",
       "      <td>874</td>\n",
       "    </tr>\n",
       "    <tr>\n",
       "      <th>...</th>\n",
       "      <td>...</td>\n",
       "      <td>...</td>\n",
       "      <td>...</td>\n",
       "    </tr>\n",
       "    <tr>\n",
       "      <th>268</th>\n",
       "      <td>59.166.0.9</td>\n",
       "      <td>149.171.126.5</td>\n",
       "      <td>6456</td>\n",
       "    </tr>\n",
       "    <tr>\n",
       "      <th>269</th>\n",
       "      <td>59.166.0.9</td>\n",
       "      <td>149.171.126.6</td>\n",
       "      <td>6223</td>\n",
       "    </tr>\n",
       "    <tr>\n",
       "      <th>270</th>\n",
       "      <td>59.166.0.9</td>\n",
       "      <td>149.171.126.7</td>\n",
       "      <td>6338</td>\n",
       "    </tr>\n",
       "    <tr>\n",
       "      <th>271</th>\n",
       "      <td>59.166.0.9</td>\n",
       "      <td>149.171.126.8</td>\n",
       "      <td>6130</td>\n",
       "    </tr>\n",
       "    <tr>\n",
       "      <th>272</th>\n",
       "      <td>59.166.0.9</td>\n",
       "      <td>149.171.126.9</td>\n",
       "      <td>6323</td>\n",
       "    </tr>\n",
       "  </tbody>\n",
       "</table>\n",
       "<p>273 rows × 3 columns</p>\n",
       "</div>"
      ],
      "text/plain": [
       "          src_ip         dst_ip  Number of flows\n",
       "0    10.40.170.2    10.40.170.2              874\n",
       "1    10.40.182.1    10.40.182.3              708\n",
       "2    10.40.182.1   10.40.198.10                6\n",
       "3    10.40.182.1      224.0.0.5              956\n",
       "4    10.40.182.3    10.40.182.3              874\n",
       "..           ...            ...              ...\n",
       "268   59.166.0.9  149.171.126.5             6456\n",
       "269   59.166.0.9  149.171.126.6             6223\n",
       "270   59.166.0.9  149.171.126.7             6338\n",
       "271   59.166.0.9  149.171.126.8             6130\n",
       "272   59.166.0.9  149.171.126.9             6323\n",
       "\n",
       "[273 rows x 3 columns]"
      ]
     },
     "execution_count": 90,
     "metadata": {},
     "output_type": "execute_result"
    }
   ],
   "source": [
    "flows_per_connection"
   ]
  },
  {
   "cell_type": "code",
   "execution_count": 91,
   "metadata": {},
   "outputs": [
    {
     "data": {
      "text/plain": [
       "Text(0, 0.5, 'Number of connections')"
      ]
     },
     "execution_count": 91,
     "metadata": {},
     "output_type": "execute_result"
    },
    {
     "data": {
      "image/png": "[encoded data removed]",
      "text/plain": [
       "<Figure size 432x288 with 1 Axes>"
      ]
     },
     "metadata": {},
     "output_type": "display_data"
    }
   ],
   "source": [
    "flows_per_connection['Number of flows'].hist(bins=50)\n",
    "plt.xlabel('Number of flows')\n",
    "plt.ylabel('Number of connections')"
   ]
  },
  {
   "cell_type": "code",
   "execution_count": 92,
   "metadata": {},
   "outputs": [
    {
     "data": {
      "text/plain": [
       "<matplotlib.axes._subplots.AxesSubplot at 0x138703490>"
      ]
     },
     "execution_count": 92,
     "metadata": {},
     "output_type": "execute_result"
    },
    {
     "data": {
      "image/png": "[encoded data removed]",
      "text/plain": [
       "<Figure size 720x432 with 1 Axes>"
      ]
     },
     "metadata": {},
     "output_type": "display_data"
    }
   ],
   "source": [
    "plt.figure(figsize=(10, 6))\n",
    "sns.boxplot(x=flows_per_connection['Number of flows'], showfliers=False)"
   ]
  },
  {
   "cell_type": "code",
   "execution_count": null,
   "metadata": {},
   "outputs": [],
   "source": []
  }
 ],
 "metadata": {
  "kernelspec": {
   "display_name": "Python 3",
   "language": "python",
   "name": "python3"
  },
  "language_info": {
   "codemirror_mode": {
    "name": "ipython",
    "version": 3
   },
   "file_extension": ".py",
   "mimetype": "text/x-python",
   "name": "python",
   "nbconvert_exporter": "python",
   "pygments_lexer": "ipython3",
   "version": "3.7.6"
  }
 },
 "nbformat": 4,
 "nbformat_minor": 4
}
